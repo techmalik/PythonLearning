{
 "cells": [
  {
   "cell_type": "markdown",
   "id": "e2182788",
   "metadata": {
    "slideshow": {
     "slide_type": "slide"
    }
   },
   "source": [
    "# POD 5 \n",
    "# TEAM 2: Python Presentation\n",
    "\n",
    "## Members\n",
    "+ Maryam Quadri\n",
    "+ Makhura Rasemphe\n",
    "+ Lukonde Sampa\n",
    "+ Malik Kabir"
   ]
  },
  {
   "cell_type": "markdown",
   "id": "42329fdc",
   "metadata": {
    "slideshow": {
     "slide_type": "slide"
    }
   },
   "source": [
    "### 1. What we have learnt "
   ]
  },
  {
   "cell_type": "markdown",
   "id": "0f426743",
   "metadata": {
    "slideshow": {
     "slide_type": "fragment"
    }
   },
   "source": [
    "- Evolution of Programming\n",
    "- Lambda Functions\n",
    "- Using git and github for for version control\n",
    "- Statistics: \n",
    "    + Sampling techniques\n",
    "    + Hypothesis Testing\n",
    "    + Determining Confidence Levels"
   ]
  },
  {
   "cell_type": "markdown",
   "id": "f47d453c",
   "metadata": {
    "slideshow": {
     "slide_type": "fragment"
    }
   },
   "source": [
    "- Python Scripting\n",
    "- Big O Notations: Learning about time complexities and create more efficient code.\n",
    "- Numpy & Pandas: Pandas is basically an Excel on Jupyter Notebook.\n",
    "- Search & Sort algorithms"
   ]
  },
  {
   "cell_type": "markdown",
   "id": "7a82a2a3",
   "metadata": {
    "slideshow": {
     "slide_type": "slide"
    }
   },
   "source": [
    "### 2. Code Examples "
   ]
  },
  {
   "cell_type": "markdown",
   "id": "ac5494af",
   "metadata": {
    "slideshow": {
     "slide_type": "fragment"
    }
   },
   "source": [
    "- With the knowledge and insights gained from the sprint below is a code that takes in an input n and uses nested for loops for printing a right angle triangle."
   ]
  },
  {
   "cell_type": "code",
   "execution_count": 5,
   "id": "be5d4938",
   "metadata": {
    "slideshow": {
     "slide_type": "fragment"
    }
   },
   "outputs": [
    {
     "name": "stdout",
     "output_type": "stream",
     "text": [
      "*\n",
      "**\n",
      "***\n",
      "****\n",
      "*****\n",
      "******\n",
      "*******\n",
      "********\n"
     ]
    }
   ],
   "source": [
    "# Code by Makhura (Mandy) Rasemphe \n",
    "def triangle(n):\n",
    "    \"\"\"This function takes in a number \n",
    "    n as the the number \n",
    "    of rows and two loops \n",
    "    and prints out a right hand triangle\"\"\"\n",
    "\n",
    "    for i in range(0,n):\n",
    "            for j in range(0, i +1):\n",
    "                print(\"*\", end=\"\")\n",
    "            print()\n",
    "\n",
    "\n",
    "triangle(8)"
   ]
  },
  {
   "cell_type": "markdown",
   "id": "e04d0a89",
   "metadata": {
    "slideshow": {
     "slide_type": "slide"
    }
   },
   "source": [
    "### 2. Code Examples (Cont'd)"
   ]
  },
  {
   "cell_type": "markdown",
   "id": "6f43e166",
   "metadata": {
    "slideshow": {
     "slide_type": "fragment"
    }
   },
   "source": [
    "### Data Scientist in Python Path on DataQuest"
   ]
  },
  {
   "cell_type": "markdown",
   "id": "b2cd4134",
   "metadata": {
    "slideshow": {
     "slide_type": "fragment"
    }
   },
   "source": [
    "![](Dataset.png) "
   ]
  },
  {
   "cell_type": "markdown",
   "id": "a77ed029",
   "metadata": {
    "slideshow": {
     "slide_type": "slide"
    }
   },
   "source": [
    "### 2. Code Examples (Cont'd)"
   ]
  },
  {
   "cell_type": "code",
   "execution_count": null,
   "id": "50e6946e",
   "metadata": {
    "slideshow": {
     "slide_type": "fragment"
    }
   },
   "outputs": [],
   "source": [
    "## 5. Proportions and Percentages ##\n",
    "\n",
    "opened_file = open('AppleStore.csv')\n",
    "from csv import reader\n",
    "read_file = reader(opened_file)\n",
    "apps_data = list(read_file)\n",
    "\n",
    "genre_counting = {}\n",
    "\n",
    "for row in apps_data[1:]:\n",
    "    genre = row[11]\n",
    "    if genre in genre_counting:\n",
    "        genre_counting[genre] += 1\n",
    "    else:\n",
    "        genre_counting[genre] = 1\n",
    "print(genre_counting)"
   ]
  },
  {
   "cell_type": "markdown",
   "id": "a0504f14",
   "metadata": {
    "slideshow": {
     "slide_type": "slide"
    }
   },
   "source": [
    "### 2. Code Examples (Cont'd)"
   ]
  },
  {
   "cell_type": "markdown",
   "id": "214e08ea",
   "metadata": {
    "slideshow": {
     "slide_type": "fragment"
    }
   },
   "source": [
    "### ---> Counts the number of genre and makes them a value in a dictionary."
   ]
  },
  {
   "cell_type": "markdown",
   "id": "85f3a0da",
   "metadata": {
    "slideshow": {
     "slide_type": "fragment"
    }
   },
   "source": [
    "![](output_2.png) "
   ]
  },
  {
   "cell_type": "markdown",
   "id": "7b11625e",
   "metadata": {
    "slideshow": {
     "slide_type": "slide"
    }
   },
   "source": [
    "### 3. Challenges & How We Overcame Them"
   ]
  },
  {
   "cell_type": "markdown",
   "id": "84220587",
   "metadata": {
    "slideshow": {
     "slide_type": "fragment"
    }
   },
   "source": [
    "**Challenge 1:**\n",
    "Resources on Athena was a bit dense. \n",
    "\n",
    "**Solution:** Watched Youtube videos to get a grasp of some concepts.\n",
    "\n",
    "**Challenge 2:**\n",
    "The sorting and searching challenges were tough\n",
    "\n",
    "**Solution:** Spent days on the challenges, revisited math concepts\n",
    "\n",
    "**Challenge 3:** \n",
    "A bit rusty with coding\n",
    "\n",
    "**Solution:** Spent time at DataQuest, taking the Python for Data Science learning path to freshen up. "
   ]
  },
  {
   "cell_type": "markdown",
   "id": "fa0717c2",
   "metadata": {
    "slideshow": {
     "slide_type": "slide"
    }
   },
   "source": [
    "### 4. Applying What We Have Learnt"
   ]
  },
  {
   "cell_type": "markdown",
   "id": "1c505e43",
   "metadata": {
    "slideshow": {
     "slide_type": "fragment"
    }
   },
   "source": [
    "**1. Problem Solving:** We will be able to face the challenges in SQL sprint because of the challenges we get to tackle in the Python sprint.\n",
    "\n",
    "**2. Collaboration:** With knowledge of github, we can collaborate with projects and have some work done. \n",
    "\n",
    "**3. Seeking Help:** We get stuck. Friends & colleagues are always here help us out. So is Stackoverflow 😉😂  "
   ]
  },
  {
   "cell_type": "markdown",
   "id": "6546a9ae",
   "metadata": {
    "slideshow": {
     "slide_type": "slide"
    }
   },
   "source": [
    "# THANK YOU FOR LISTENING!!!\n",
    "\n",
    "\n",
    "## THE END\n",
    "\n",
    "\n",
    "## QUESTIONS?"
   ]
  }
 ],
 "metadata": {
  "celltoolbar": "Slideshow",
  "kernelspec": {
   "display_name": "Python 3 (ipykernel)",
   "language": "python",
   "name": "python3"
  },
  "language_info": {
   "codemirror_mode": {
    "name": "ipython",
    "version": 3
   },
   "file_extension": ".py",
   "mimetype": "text/x-python",
   "name": "python",
   "nbconvert_exporter": "python",
   "pygments_lexer": "ipython3",
   "version": "3.9.12"
  }
 },
 "nbformat": 4,
 "nbformat_minor": 5
}
